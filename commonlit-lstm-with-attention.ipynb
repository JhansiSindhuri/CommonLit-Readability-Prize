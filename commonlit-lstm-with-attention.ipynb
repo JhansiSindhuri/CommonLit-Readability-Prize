{
 "cells": [
  {
   "cell_type": "code",
   "execution_count": 1,
   "id": "higher-impossible",
   "metadata": {
    "_cell_guid": "b1076dfc-b9ad-4769-8c92-a6c4dae69d19",
    "_uuid": "8f2839f25d086af736a60e9eeb907d3b93b6e0e5",
    "execution": {
     "iopub.execute_input": "2021-05-23T10:01:21.602828Z",
     "iopub.status.busy": "2021-05-23T10:01:21.600561Z",
     "iopub.status.idle": "2021-05-23T10:01:21.617646Z",
     "shell.execute_reply": "2021-05-23T10:01:21.616956Z",
     "shell.execute_reply.started": "2021-05-23T09:54:14.631272Z"
    },
    "papermill": {
     "duration": 0.044633,
     "end_time": "2021-05-23T10:01:21.617841",
     "exception": false,
     "start_time": "2021-05-23T10:01:21.573208",
     "status": "completed"
    },
    "tags": []
   },
   "outputs": [
    {
     "name": "stdout",
     "output_type": "stream",
     "text": [
      "/kaggle/input/commonlitreadabilityprize/sample_submission.csv\n",
      "/kaggle/input/commonlitreadabilityprize/train.csv\n",
      "/kaggle/input/commonlitreadabilityprize/test.csv\n"
     ]
    }
   ],
   "source": [
    "# This Python 3 environment comes with many helpful analytics libraries installed\n",
    "# It is defined by the kaggle/python Docker image: https://github.com/kaggle/docker-python\n",
    "# For example, here's several helpful packages to load\n",
    "\n",
    "import numpy as np # linear algebra\n",
    "import pandas as pd # data processing, CSV file I/O (e.g. pd.read_csv)\n",
    "\n",
    "# Input data files are available in the read-only \"../input/\" directory\n",
    "# For example, running this (by clicking run or pressing Shift+Enter) will list all files under the input directory\n",
    "\n",
    "import os\n",
    "for dirname, _, filenames in os.walk('/kaggle/input'):\n",
    "    for filename in filenames:\n",
    "        print(os.path.join(dirname, filename))\n",
    "\n",
    "# You can write up to 20GB to the current directory (/kaggle/working/) that gets preserved as output when you create a version using \"Save & Run All\" \n",
    "# You can also write temporary files to /kaggle/temp/, but they won't be saved outside of the current session"
   ]
  },
  {
   "cell_type": "markdown",
   "id": "diagnostic-artist",
   "metadata": {
    "papermill": {
     "duration": 0.020441,
     "end_time": "2021-05-23T10:01:21.660515",
     "exception": false,
     "start_time": "2021-05-23T10:01:21.640074",
     "status": "completed"
    },
    "tags": []
   },
   "source": [
    "## Import Libraries"
   ]
  },
  {
   "cell_type": "code",
   "execution_count": 2,
   "id": "subject-eagle",
   "metadata": {
    "execution": {
     "iopub.execute_input": "2021-05-23T10:01:21.708883Z",
     "iopub.status.busy": "2021-05-23T10:01:21.708147Z",
     "iopub.status.idle": "2021-05-23T10:01:22.565481Z",
     "shell.execute_reply": "2021-05-23T10:01:22.568227Z",
     "shell.execute_reply.started": "2021-05-23T09:54:14.645544Z"
    },
    "papermill": {
     "duration": 0.886844,
     "end_time": "2021-05-23T10:01:22.568541",
     "exception": false,
     "start_time": "2021-05-23T10:01:21.681697",
     "status": "completed"
    },
    "tags": []
   },
   "outputs": [],
   "source": [
    "import pandas as pd\n",
    "import numpy as np\n",
    "import re\n",
    "import string\n",
    "from tqdm import tqdm\n",
    "import seaborn as sns\n",
    "from matplotlib import pyplot as plt"
   ]
  },
  {
   "cell_type": "code",
   "execution_count": 3,
   "id": "occasional-japan",
   "metadata": {
    "execution": {
     "iopub.execute_input": "2021-05-23T10:01:22.680020Z",
     "iopub.status.busy": "2021-05-23T10:01:22.678787Z",
     "iopub.status.idle": "2021-05-23T10:01:29.420158Z",
     "shell.execute_reply": "2021-05-23T10:01:29.419394Z",
     "shell.execute_reply.started": "2021-05-23T09:54:15.400635Z"
    },
    "papermill": {
     "duration": 6.802373,
     "end_time": "2021-05-23T10:01:29.420329",
     "exception": false,
     "start_time": "2021-05-23T10:01:22.617956",
     "status": "completed"
    },
    "tags": []
   },
   "outputs": [],
   "source": [
    "# from sklearn.preprocessing import StandardScaler\n",
    "\n",
    "from sklearn import metrics\n",
    "from sklearn.model_selection import train_test_split\n",
    "\n",
    "from nltk.corpus import stopwords\n",
    "from nltk.tokenize import word_tokenize\n",
    "from nltk.stem.snowball import SnowballStemmer\n",
    "from nltk.stem.porter import PorterStemmer\n",
    "from nltk.stem import WordNetLemmatizer\n",
    "from nltk import ngrams\n",
    "\n",
    "from keras.preprocessing.sequence import pad_sequences\n",
    "from keras.preprocessing.text import Tokenizer\n",
    "from keras.models import Sequential, Model\n",
    "from keras.layers import LSTM, Dense, TimeDistributed, Bidirectional, Embedding, Dropout, Flatten, Layer, Input\n",
    "from keras.optimizers import SGD, Adam, Adagrad, Adadelta, RMSprop\n",
    "from keras.callbacks import EarlyStopping, ModelCheckpoint\n",
    "import keras.backend as K"
   ]
  },
  {
   "cell_type": "code",
   "execution_count": 4,
   "id": "fossil-testimony",
   "metadata": {
    "execution": {
     "iopub.execute_input": "2021-05-23T10:01:29.472238Z",
     "iopub.status.busy": "2021-05-23T10:01:29.471072Z",
     "iopub.status.idle": "2021-05-23T10:01:29.474417Z",
     "shell.execute_reply": "2021-05-23T10:01:29.473879Z",
     "shell.execute_reply.started": "2021-05-23T09:54:20.685606Z"
    },
    "papermill": {
     "duration": 0.032331,
     "end_time": "2021-05-23T10:01:29.474571",
     "exception": false,
     "start_time": "2021-05-23T10:01:29.442240",
     "status": "completed"
    },
    "tags": []
   },
   "outputs": [],
   "source": [
    "from warnings import filterwarnings\n",
    "filterwarnings('ignore')\n",
    "\n",
    "sns.color_palette('dark')\n",
    "%matplotlib inline\n",
    "\n",
    "tqdm.pandas()"
   ]
  },
  {
   "cell_type": "markdown",
   "id": "color-stadium",
   "metadata": {
    "papermill": {
     "duration": 0.02044,
     "end_time": "2021-05-23T10:01:29.517912",
     "exception": false,
     "start_time": "2021-05-23T10:01:29.497472",
     "status": "completed"
    },
    "tags": []
   },
   "source": [
    "## Load Data"
   ]
  },
  {
   "cell_type": "code",
   "execution_count": 5,
   "id": "motivated-france",
   "metadata": {
    "execution": {
     "iopub.execute_input": "2021-05-23T10:01:29.567004Z",
     "iopub.status.busy": "2021-05-23T10:01:29.566254Z",
     "iopub.status.idle": "2021-05-23T10:01:29.693111Z",
     "shell.execute_reply": "2021-05-23T10:01:29.691722Z",
     "shell.execute_reply.started": "2021-05-23T09:54:20.698294Z"
    },
    "papermill": {
     "duration": 0.154762,
     "end_time": "2021-05-23T10:01:29.693280",
     "exception": false,
     "start_time": "2021-05-23T10:01:29.538518",
     "status": "completed"
    },
    "tags": []
   },
   "outputs": [],
   "source": [
    "dftrain = pd.read_csv('../input/commonlitreadabilityprize/train.csv')\n",
    "dftest = pd.read_csv('../input/commonlitreadabilityprize/test.csv')\n",
    "sample_submission = pd.read_csv('../input/commonlitreadabilityprize/sample_submission.csv')"
   ]
  },
  {
   "cell_type": "code",
   "execution_count": 6,
   "id": "frequent-comfort",
   "metadata": {
    "execution": {
     "iopub.execute_input": "2021-05-23T10:01:29.743890Z",
     "iopub.status.busy": "2021-05-23T10:01:29.742852Z",
     "iopub.status.idle": "2021-05-23T10:01:29.747076Z",
     "shell.execute_reply": "2021-05-23T10:01:29.747596Z",
     "shell.execute_reply.started": "2021-05-23T09:54:20.804032Z"
    },
    "papermill": {
     "duration": 0.032799,
     "end_time": "2021-05-23T10:01:29.747792",
     "exception": false,
     "start_time": "2021-05-23T10:01:29.714993",
     "status": "completed"
    },
    "tags": []
   },
   "outputs": [
    {
     "data": {
      "text/plain": [
       "((2834, 6), (7, 4))"
      ]
     },
     "execution_count": 6,
     "metadata": {},
     "output_type": "execute_result"
    }
   ],
   "source": [
    "dftrain.shape, dftest.shape"
   ]
  },
  {
   "cell_type": "markdown",
   "id": "valid-mechanism",
   "metadata": {
    "papermill": {
     "duration": 0.021137,
     "end_time": "2021-05-23T10:01:29.789527",
     "exception": false,
     "start_time": "2021-05-23T10:01:29.768390",
     "status": "completed"
    },
    "tags": []
   },
   "source": [
    "## Clean data"
   ]
  },
  {
   "cell_type": "code",
   "execution_count": 7,
   "id": "illegal-integration",
   "metadata": {
    "execution": {
     "iopub.execute_input": "2021-05-23T10:01:29.839779Z",
     "iopub.status.busy": "2021-05-23T10:01:29.838696Z",
     "iopub.status.idle": "2021-05-23T10:01:29.841444Z",
     "shell.execute_reply": "2021-05-23T10:01:29.841908Z",
     "shell.execute_reply.started": "2021-05-23T09:54:20.818485Z"
    },
    "papermill": {
     "duration": 0.03178,
     "end_time": "2021-05-23T10:01:29.842057",
     "exception": false,
     "start_time": "2021-05-23T10:01:29.810277",
     "status": "completed"
    },
    "tags": []
   },
   "outputs": [],
   "source": [
    "def clean_text(sentence):\n",
    "    # remove numbers\n",
    "    pattern = re.compile(r'[0-9]+')\n",
    "    sentence = sentence.lower()\n",
    "    sentence = pattern.sub(' ', sentence).strip()\n",
    "    # remove punctuations\n",
    "    newSentence = ''\n",
    "    for char in sentence:\n",
    "        if char not in string.punctuation:\n",
    "            newSentence += char\n",
    "    # Tokenize\n",
    "    word_list = word_tokenize(newSentence)\n",
    "    # stop words\n",
    "    stopwords_list = set(stopwords.words('english'))\n",
    "    # remove stop words\n",
    "    word_list = [word for word in word_list if word not in stopwords_list]\n",
    "    # stemming\n",
    "    ps  = PorterStemmer()\n",
    "    word_list = [ps.stem(word) for word in word_list]\n",
    "    # list to sentence\n",
    "    sentence = ' '.join(word_list)\n",
    "    \n",
    "    return sentence"
   ]
  },
  {
   "cell_type": "code",
   "execution_count": 8,
   "id": "serial-reform",
   "metadata": {
    "execution": {
     "iopub.execute_input": "2021-05-23T10:01:29.895956Z",
     "iopub.status.busy": "2021-05-23T10:01:29.894814Z",
     "iopub.status.idle": "2021-05-23T10:01:44.232817Z",
     "shell.execute_reply": "2021-05-23T10:01:44.232257Z",
     "shell.execute_reply.started": "2021-05-23T09:54:20.828630Z"
    },
    "papermill": {
     "duration": 14.370113,
     "end_time": "2021-05-23T10:01:44.233005",
     "exception": false,
     "start_time": "2021-05-23T10:01:29.862892",
     "status": "completed"
    },
    "tags": []
   },
   "outputs": [
    {
     "name": "stderr",
     "output_type": "stream",
     "text": [
      "100%|██████████| 2834/2834 [00:14<00:00, 198.26it/s]\n"
     ]
    }
   ],
   "source": [
    "dftrain['clean_text'] = dftrain['excerpt'].progress_apply(clean_text)\n",
    "dftest['clean_text'] = dftest['excerpt'].apply(clean_text)"
   ]
  },
  {
   "cell_type": "markdown",
   "id": "dress-gardening",
   "metadata": {
    "papermill": {
     "duration": 0.065627,
     "end_time": "2021-05-23T10:01:44.365677",
     "exception": false,
     "start_time": "2021-05-23T10:01:44.300050",
     "status": "completed"
    },
    "tags": []
   },
   "source": [
    "## Split data"
   ]
  },
  {
   "cell_type": "code",
   "execution_count": 9,
   "id": "medium-string",
   "metadata": {
    "execution": {
     "iopub.execute_input": "2021-05-23T10:01:44.526121Z",
     "iopub.status.busy": "2021-05-23T10:01:44.524979Z",
     "iopub.status.idle": "2021-05-23T10:01:44.533605Z",
     "shell.execute_reply": "2021-05-23T10:01:44.533073Z",
     "shell.execute_reply.started": "2021-05-23T09:54:32.245824Z"
    },
    "papermill": {
     "duration": 0.101338,
     "end_time": "2021-05-23T10:01:44.533777",
     "exception": false,
     "start_time": "2021-05-23T10:01:44.432439",
     "status": "completed"
    },
    "tags": []
   },
   "outputs": [],
   "source": [
    "Xtrain, Xcv, Ytrain, Ycv = train_test_split(dftrain['clean_text'], dftrain['target'], random_state=21, test_size=0.2)"
   ]
  },
  {
   "cell_type": "markdown",
   "id": "criminal-february",
   "metadata": {
    "papermill": {
     "duration": 0.159249,
     "end_time": "2021-05-23T10:01:44.835276",
     "exception": false,
     "start_time": "2021-05-23T10:01:44.676027",
     "status": "completed"
    },
    "tags": []
   },
   "source": [
    "## Tokenize and pad sequences"
   ]
  },
  {
   "cell_type": "code",
   "execution_count": 10,
   "id": "handmade-budapest",
   "metadata": {
    "execution": {
     "iopub.execute_input": "2021-05-23T10:01:45.103401Z",
     "iopub.status.busy": "2021-05-23T10:01:45.098304Z",
     "iopub.status.idle": "2021-05-23T10:01:45.636137Z",
     "shell.execute_reply": "2021-05-23T10:01:45.635492Z",
     "shell.execute_reply.started": "2021-05-23T09:54:32.254023Z"
    },
    "papermill": {
     "duration": 0.670497,
     "end_time": "2021-05-23T10:01:45.636298",
     "exception": false,
     "start_time": "2021-05-23T10:01:44.965801",
     "status": "completed"
    },
    "tags": []
   },
   "outputs": [],
   "source": [
    "# Tokenize our training data\n",
    "tokenizer = Tokenizer(num_words=20000, oov_token='<UNK>')\n",
    "tokenizer.fit_on_texts(Xtrain)\n",
    "\n",
    "# word to number and vice versa map\n",
    "word2num = tokenizer.word_index\n",
    "num2word = {k:w for w, k in word2num.items()}\n",
    "\n",
    "# Encode training data sentences into sequences\n",
    "train_sequences = tokenizer.texts_to_sequences(Xtrain)\n",
    "\n",
    "# Get max training sequence length\n",
    "maxlen = max([len(x) for x in train_sequences])\n",
    "\n",
    "# Pad the training sequences\n",
    "train_padded = pad_sequences(train_sequences, padding='post', truncating='post', maxlen=210)\n",
    "\n",
    "\n",
    "valid_sequences = tokenizer.texts_to_sequences(Xcv)\n",
    "valid_padded = pad_sequences(valid_sequences, padding='post', truncating='post', maxlen=210)\n",
    "\n",
    "test_sequences = tokenizer.texts_to_sequences(dftest['clean_text'])\n",
    "test_padded = pad_sequences(test_sequences, padding='post', truncating='post', maxlen=210)"
   ]
  },
  {
   "cell_type": "code",
   "execution_count": 11,
   "id": "varied-methodology",
   "metadata": {
    "execution": {
     "iopub.execute_input": "2021-05-23T10:01:45.783402Z",
     "iopub.status.busy": "2021-05-23T10:01:45.781049Z",
     "iopub.status.idle": "2021-05-23T10:01:45.784480Z",
     "shell.execute_reply": "2021-05-23T10:01:45.785051Z",
     "shell.execute_reply.started": "2021-05-23T09:54:32.655415Z"
    },
    "papermill": {
     "duration": 0.081452,
     "end_time": "2021-05-23T10:01:45.785224",
     "exception": false,
     "start_time": "2021-05-23T10:01:45.703772",
     "status": "completed"
    },
    "tags": []
   },
   "outputs": [],
   "source": [
    "class Attention(Layer):\n",
    "    def __init__(self,**kwargs):\n",
    "        super(Attention,self).__init__(**kwargs)\n",
    "\n",
    "    def build(self,input_shape):\n",
    "        self.W=self.add_weight(name=\"att_weight\",shape=(input_shape[-1],1),initializer=\"normal\")\n",
    "        self.b=self.add_weight(name=\"att_bias\",shape=(input_shape[1],1),initializer=\"zeros\")        \n",
    "        super(Attention, self).build(input_shape)\n",
    "\n",
    "    def call(self,x):\n",
    "        et=K.squeeze(K.tanh(K.dot(x,self.W)+self.b),axis=-1)\n",
    "        at=K.softmax(et)\n",
    "        at=K.expand_dims(at,axis=-1)\n",
    "        output=x*at\n",
    "        return K.sum(output,axis=1)\n",
    "\n",
    "    def compute_output_shape(self,input_shape):\n",
    "        return (input_shape[0],input_shape[-1])\n",
    "\n",
    "    def get_config(self):\n",
    "        return super(Attention,self).get_config()"
   ]
  },
  {
   "cell_type": "code",
   "execution_count": 12,
   "id": "hourly-violin",
   "metadata": {
    "execution": {
     "iopub.execute_input": "2021-05-23T10:01:45.928016Z",
     "iopub.status.busy": "2021-05-23T10:01:45.927221Z",
     "iopub.status.idle": "2021-05-23T10:01:49.178141Z",
     "shell.execute_reply": "2021-05-23T10:01:49.179086Z",
     "shell.execute_reply.started": "2021-05-23T09:54:32.668003Z"
    },
    "papermill": {
     "duration": 3.327085,
     "end_time": "2021-05-23T10:01:49.179387",
     "exception": false,
     "start_time": "2021-05-23T10:01:45.852302",
     "status": "completed"
    },
    "tags": []
   },
   "outputs": [
    {
     "name": "stdout",
     "output_type": "stream",
     "text": [
      "Model: \"model\"\n",
      "_________________________________________________________________\n",
      "Layer (type)                 Output Shape              Param #   \n",
      "=================================================================\n",
      "input_1 (InputLayer)         [(None, 210)]             0         \n",
      "_________________________________________________________________\n",
      "embedding (Embedding)        (None, 210, 256)          5120000   \n",
      "_________________________________________________________________\n",
      "bidirectional (Bidirectional (None, 210, 600)          1336800   \n",
      "_________________________________________________________________\n",
      "attention (Attention)        (None, 600)               810       \n",
      "_________________________________________________________________\n",
      "dense (Dense)                (None, 256)               153856    \n",
      "_________________________________________________________________\n",
      "dropout (Dropout)            (None, 256)               0         \n",
      "_________________________________________________________________\n",
      "dense_1 (Dense)              (None, 1)                 257       \n",
      "=================================================================\n",
      "Total params: 6,611,723\n",
      "Trainable params: 1,491,723\n",
      "Non-trainable params: 5,120,000\n",
      "_________________________________________________________________\n"
     ]
    }
   ],
   "source": [
    "inp = Input(shape=(210, ))\n",
    "x = Embedding(20000, 256, trainable=False)(inp)\n",
    "x = Bidirectional(LSTM(300, return_sequences=True, dropout=0.1,recurrent_dropout=0.1))(x)\n",
    "x = Attention()(x)\n",
    "x = Dense(256, activation=\"relu\")(x)\n",
    "x = Dropout(0.2)(x)\n",
    "x = Dense(1, activation=\"linear\")(x)\n",
    "model = Model(inputs=inp, outputs=x)\n",
    "\n",
    "model.summary()"
   ]
  },
  {
   "cell_type": "code",
   "execution_count": 13,
   "id": "hollywood-kennedy",
   "metadata": {
    "execution": {
     "iopub.execute_input": "2021-05-23T10:01:49.332556Z",
     "iopub.status.busy": "2021-05-23T10:01:49.331418Z",
     "iopub.status.idle": "2021-05-23T10:01:49.339291Z",
     "shell.execute_reply": "2021-05-23T10:01:49.338733Z",
     "shell.execute_reply.started": "2021-05-23T09:54:35.819648Z"
    },
    "papermill": {
     "duration": 0.091159,
     "end_time": "2021-05-23T10:01:49.339443",
     "exception": false,
     "start_time": "2021-05-23T10:01:49.248284",
     "status": "completed"
    },
    "tags": []
   },
   "outputs": [],
   "source": [
    "model.compile(loss='mse', optimizer='adam', metrics=['mse'])\n",
    "file_path = 'model.hdf5'\n",
    "ckpt = ModelCheckpoint(file_path, monitor='val_loss', verbose=1, save_best_only=True, mode='auto')\n",
    "early = EarlyStopping(monitor=\"val_loss\", mode=\"auto\", patience=1)"
   ]
  },
  {
   "cell_type": "code",
   "execution_count": 14,
   "id": "intense-ending",
   "metadata": {
    "execution": {
     "iopub.execute_input": "2021-05-23T10:01:49.483063Z",
     "iopub.status.busy": "2021-05-23T10:01:49.482304Z",
     "iopub.status.idle": "2021-05-23T10:05:55.644632Z",
     "shell.execute_reply": "2021-05-23T10:05:55.644039Z",
     "shell.execute_reply.started": "2021-05-23T09:54:35.836663Z"
    },
    "papermill": {
     "duration": 246.236954,
     "end_time": "2021-05-23T10:05:55.644849",
     "exception": false,
     "start_time": "2021-05-23T10:01:49.407895",
     "status": "completed"
    },
    "tags": []
   },
   "outputs": [
    {
     "name": "stdout",
     "output_type": "stream",
     "text": [
      "Epoch 1/30\n",
      "3/3 [==============================] - 16s 3s/step - loss: 1.8750 - mse: 1.8750 - val_loss: 1.2574 - val_mse: 1.2574\n",
      "\n",
      "Epoch 00001: val_loss improved from inf to 1.25736, saving model to model.hdf5\n",
      "Epoch 2/30\n",
      "3/3 [==============================] - 8s 3s/step - loss: 1.6337 - mse: 1.6337 - val_loss: 1.2946 - val_mse: 1.2946\n",
      "\n",
      "Epoch 00002: val_loss did not improve from 1.25736\n",
      "Epoch 3/30\n",
      "3/3 [==============================] - 8s 3s/step - loss: 1.1990 - mse: 1.1990 - val_loss: 1.5034 - val_mse: 1.5034\n",
      "\n",
      "Epoch 00003: val_loss did not improve from 1.25736\n",
      "Epoch 4/30\n",
      "3/3 [==============================] - 8s 3s/step - loss: 1.3394 - mse: 1.3394 - val_loss: 1.3829 - val_mse: 1.3829\n",
      "\n",
      "Epoch 00004: val_loss did not improve from 1.25736\n",
      "Epoch 5/30\n",
      "3/3 [==============================] - 8s 3s/step - loss: 1.2011 - mse: 1.2011 - val_loss: 1.2186 - val_mse: 1.2186\n",
      "\n",
      "Epoch 00005: val_loss improved from 1.25736 to 1.21865, saving model to model.hdf5\n",
      "Epoch 6/30\n",
      "3/3 [==============================] - 8s 3s/step - loss: 1.0765 - mse: 1.0765 - val_loss: 1.2590 - val_mse: 1.2590\n",
      "\n",
      "Epoch 00006: val_loss did not improve from 1.21865\n",
      "Epoch 7/30\n",
      "3/3 [==============================] - 8s 3s/step - loss: 1.0869 - mse: 1.0869 - val_loss: 1.2137 - val_mse: 1.2137\n",
      "\n",
      "Epoch 00007: val_loss improved from 1.21865 to 1.21368, saving model to model.hdf5\n",
      "Epoch 8/30\n",
      "3/3 [==============================] - 7s 2s/step - loss: 1.0729 - mse: 1.0729 - val_loss: 1.2360 - val_mse: 1.2360\n",
      "\n",
      "Epoch 00008: val_loss did not improve from 1.21368\n",
      "Epoch 9/30\n",
      "3/3 [==============================] - 8s 2s/step - loss: 1.0848 - mse: 1.0848 - val_loss: 1.2288 - val_mse: 1.2288\n",
      "\n",
      "Epoch 00009: val_loss did not improve from 1.21368\n",
      "Epoch 10/30\n",
      "3/3 [==============================] - 8s 3s/step - loss: 1.0807 - mse: 1.0807 - val_loss: 1.2117 - val_mse: 1.2117\n",
      "\n",
      "Epoch 00010: val_loss improved from 1.21368 to 1.21173, saving model to model.hdf5\n",
      "Epoch 11/30\n",
      "3/3 [==============================] - 8s 3s/step - loss: 1.0565 - mse: 1.0565 - val_loss: 1.2134 - val_mse: 1.2134\n",
      "\n",
      "Epoch 00011: val_loss did not improve from 1.21173\n",
      "Epoch 12/30\n",
      "3/3 [==============================] - 7s 3s/step - loss: 1.0766 - mse: 1.0766 - val_loss: 1.2103 - val_mse: 1.2103\n",
      "\n",
      "Epoch 00012: val_loss improved from 1.21173 to 1.21025, saving model to model.hdf5\n",
      "Epoch 13/30\n",
      "3/3 [==============================] - 8s 3s/step - loss: 1.0515 - mse: 1.0515 - val_loss: 1.2159 - val_mse: 1.2159\n",
      "\n",
      "Epoch 00013: val_loss did not improve from 1.21025\n",
      "Epoch 14/30\n",
      "3/3 [==============================] - 9s 3s/step - loss: 1.0640 - mse: 1.0640 - val_loss: 1.2221 - val_mse: 1.2221\n",
      "\n",
      "Epoch 00014: val_loss did not improve from 1.21025\n",
      "Epoch 15/30\n",
      "3/3 [==============================] - 8s 3s/step - loss: 1.0666 - mse: 1.0666 - val_loss: 1.2103 - val_mse: 1.2103\n",
      "\n",
      "Epoch 00015: val_loss did not improve from 1.21025\n",
      "Epoch 16/30\n",
      "3/3 [==============================] - 8s 2s/step - loss: 1.0610 - mse: 1.0610 - val_loss: 1.2063 - val_mse: 1.2063\n",
      "\n",
      "Epoch 00016: val_loss improved from 1.21025 to 1.20627, saving model to model.hdf5\n",
      "Epoch 17/30\n",
      "3/3 [==============================] - 8s 3s/step - loss: 1.0608 - mse: 1.0608 - val_loss: 1.2061 - val_mse: 1.2061\n",
      "\n",
      "Epoch 00017: val_loss improved from 1.20627 to 1.20613, saving model to model.hdf5\n",
      "Epoch 18/30\n",
      "3/3 [==============================] - 8s 3s/step - loss: 1.0527 - mse: 1.0527 - val_loss: 1.2049 - val_mse: 1.2049\n",
      "\n",
      "Epoch 00018: val_loss improved from 1.20613 to 1.20486, saving model to model.hdf5\n",
      "Epoch 19/30\n",
      "3/3 [==============================] - 8s 3s/step - loss: 1.0483 - mse: 1.0483 - val_loss: 1.2081 - val_mse: 1.2081\n",
      "\n",
      "Epoch 00019: val_loss did not improve from 1.20486\n",
      "Epoch 20/30\n",
      "3/3 [==============================] - 8s 3s/step - loss: 1.0677 - mse: 1.0677 - val_loss: 1.2095 - val_mse: 1.2095\n",
      "\n",
      "Epoch 00020: val_loss did not improve from 1.20486\n",
      "Epoch 21/30\n",
      "3/3 [==============================] - 8s 3s/step - loss: 1.0492 - mse: 1.0492 - val_loss: 1.2033 - val_mse: 1.2033\n",
      "\n",
      "Epoch 00021: val_loss improved from 1.20486 to 1.20328, saving model to model.hdf5\n",
      "Epoch 22/30\n",
      "3/3 [==============================] - 8s 3s/step - loss: 1.0589 - mse: 1.0589 - val_loss: 1.2039 - val_mse: 1.2039\n",
      "\n",
      "Epoch 00022: val_loss did not improve from 1.20328\n",
      "Epoch 23/30\n",
      "3/3 [==============================] - 8s 3s/step - loss: 1.0690 - mse: 1.0690 - val_loss: 1.2040 - val_mse: 1.2040\n",
      "\n",
      "Epoch 00023: val_loss did not improve from 1.20328\n",
      "Epoch 24/30\n",
      "3/3 [==============================] - 8s 3s/step - loss: 1.0827 - mse: 1.0827 - val_loss: 1.2003 - val_mse: 1.2003\n",
      "\n",
      "Epoch 00024: val_loss improved from 1.20328 to 1.20030, saving model to model.hdf5\n",
      "Epoch 25/30\n",
      "3/3 [==============================] - 8s 3s/step - loss: 1.0469 - mse: 1.0469 - val_loss: 1.2020 - val_mse: 1.2020\n",
      "\n",
      "Epoch 00025: val_loss did not improve from 1.20030\n",
      "Epoch 26/30\n",
      "3/3 [==============================] - 8s 3s/step - loss: 1.0522 - mse: 1.0522 - val_loss: 1.2017 - val_mse: 1.2017\n",
      "\n",
      "Epoch 00026: val_loss did not improve from 1.20030\n",
      "Epoch 27/30\n",
      "3/3 [==============================] - 9s 3s/step - loss: 1.0534 - mse: 1.0534 - val_loss: 1.1980 - val_mse: 1.1980\n",
      "\n",
      "Epoch 00027: val_loss improved from 1.20030 to 1.19805, saving model to model.hdf5\n",
      "Epoch 28/30\n",
      "3/3 [==============================] - 8s 3s/step - loss: 1.0483 - mse: 1.0483 - val_loss: 1.1965 - val_mse: 1.1965\n",
      "\n",
      "Epoch 00028: val_loss improved from 1.19805 to 1.19652, saving model to model.hdf5\n",
      "Epoch 29/30\n",
      "3/3 [==============================] - 8s 3s/step - loss: 1.0454 - mse: 1.0454 - val_loss: 1.1963 - val_mse: 1.1963\n",
      "\n",
      "Epoch 00029: val_loss improved from 1.19652 to 1.19626, saving model to model.hdf5\n",
      "Epoch 30/30\n",
      "3/3 [==============================] - 7s 3s/step - loss: 1.0462 - mse: 1.0462 - val_loss: 1.1966 - val_mse: 1.1966\n",
      "\n",
      "Epoch 00030: val_loss did not improve from 1.19626\n"
     ]
    },
    {
     "data": {
      "text/plain": [
       "<tensorflow.python.keras.callbacks.History at 0x7fd7084aadd0>"
      ]
     },
     "execution_count": 14,
     "metadata": {},
     "output_type": "execute_result"
    }
   ],
   "source": [
    "model.fit(train_padded, Ytrain, batch_size=1024, epochs=30, validation_data=(valid_padded, Ycv), callbacks=[ckpt])"
   ]
  },
  {
   "cell_type": "markdown",
   "id": "tracked-table",
   "metadata": {
    "papermill": {
     "duration": 0.11749,
     "end_time": "2021-05-23T10:05:55.879618",
     "exception": false,
     "start_time": "2021-05-23T10:05:55.762128",
     "status": "completed"
    },
    "tags": []
   },
   "source": [
    "## Prediction"
   ]
  },
  {
   "cell_type": "code",
   "execution_count": 15,
   "id": "adaptive-diversity",
   "metadata": {
    "execution": {
     "iopub.execute_input": "2021-05-23T10:05:56.118328Z",
     "iopub.status.busy": "2021-05-23T10:05:56.117283Z",
     "iopub.status.idle": "2021-05-23T10:05:56.971860Z",
     "shell.execute_reply": "2021-05-23T10:05:56.972614Z",
     "shell.execute_reply.started": "2021-05-23T09:58:09.937498Z"
    },
    "papermill": {
     "duration": 0.978278,
     "end_time": "2021-05-23T10:05:56.972942",
     "exception": false,
     "start_time": "2021-05-23T10:05:55.994664",
     "status": "completed"
    },
    "tags": []
   },
   "outputs": [],
   "source": [
    "test_pred = model.predict(test_padded)"
   ]
  },
  {
   "cell_type": "code",
   "execution_count": 16,
   "id": "existing-extraction",
   "metadata": {
    "execution": {
     "iopub.execute_input": "2021-05-23T10:05:57.392731Z",
     "iopub.status.busy": "2021-05-23T10:05:57.391587Z",
     "iopub.status.idle": "2021-05-23T10:05:57.394438Z",
     "shell.execute_reply": "2021-05-23T10:05:57.393632Z",
     "shell.execute_reply.started": "2021-05-23T10:00:21.486521Z"
    },
    "papermill": {
     "duration": 0.216932,
     "end_time": "2021-05-23T10:05:57.394650",
     "exception": false,
     "start_time": "2021-05-23T10:05:57.177718",
     "status": "completed"
    },
    "tags": []
   },
   "outputs": [],
   "source": [
    "test_pred = test_pred.reshape(test_pred.shape[0])"
   ]
  },
  {
   "cell_type": "code",
   "execution_count": 17,
   "id": "gothic-flour",
   "metadata": {
    "execution": {
     "iopub.execute_input": "2021-05-23T10:05:57.932391Z",
     "iopub.status.busy": "2021-05-23T10:05:57.928437Z",
     "iopub.status.idle": "2021-05-23T10:05:57.933433Z",
     "shell.execute_reply": "2021-05-23T10:05:57.929316Z",
     "shell.execute_reply.started": "2021-05-23T10:00:22.121030Z"
    },
    "papermill": {
     "duration": 0.318503,
     "end_time": "2021-05-23T10:05:57.933642",
     "exception": false,
     "start_time": "2021-05-23T10:05:57.615139",
     "status": "completed"
    },
    "tags": []
   },
   "outputs": [],
   "source": [
    "submission = pd.DataFrame({'id': dftest['id'], 'target':test_pred})"
   ]
  },
  {
   "cell_type": "code",
   "execution_count": 18,
   "id": "molecular-street",
   "metadata": {
    "execution": {
     "iopub.execute_input": "2021-05-23T10:05:58.464932Z",
     "iopub.status.busy": "2021-05-23T10:05:58.463911Z",
     "iopub.status.idle": "2021-05-23T10:05:58.642410Z",
     "shell.execute_reply": "2021-05-23T10:05:58.641739Z",
     "shell.execute_reply.started": "2021-05-23T10:00:54.727821Z"
    },
    "papermill": {
     "duration": 0.382109,
     "end_time": "2021-05-23T10:05:58.642569",
     "exception": false,
     "start_time": "2021-05-23T10:05:58.260460",
     "status": "completed"
    },
    "tags": []
   },
   "outputs": [],
   "source": [
    "submission.to_csv('submission.csv', index=False)"
   ]
  },
  {
   "cell_type": "code",
   "execution_count": null,
   "id": "compatible-commissioner",
   "metadata": {
    "papermill": {
     "duration": 0.116505,
     "end_time": "2021-05-23T10:05:58.875846",
     "exception": false,
     "start_time": "2021-05-23T10:05:58.759341",
     "status": "completed"
    },
    "tags": []
   },
   "outputs": [],
   "source": []
  }
 ],
 "metadata": {
  "kernelspec": {
   "display_name": "Python 3",
   "language": "python",
   "name": "python3"
  },
  "language_info": {
   "codemirror_mode": {
    "name": "ipython",
    "version": 3
   },
   "file_extension": ".py",
   "mimetype": "text/x-python",
   "name": "python",
   "nbconvert_exporter": "python",
   "pygments_lexer": "ipython3",
   "version": "3.7.10"
  },
  "papermill": {
   "default_parameters": {},
   "duration": 287.994711,
   "end_time": "2021-05-23T10:06:01.336972",
   "environment_variables": {},
   "exception": null,
   "input_path": "__notebook__.ipynb",
   "output_path": "__notebook__.ipynb",
   "parameters": {},
   "start_time": "2021-05-23T10:01:13.342261",
   "version": "2.3.3"
  }
 },
 "nbformat": 4,
 "nbformat_minor": 5
}
